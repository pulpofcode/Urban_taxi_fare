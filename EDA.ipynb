{
 "cells": [
  {
   "cell_type": "code",
   "execution_count": 2,
   "id": "83ad2a7f",
   "metadata": {},
   "outputs": [],
   "source": [
    "# Load dataset & basic sanity checks\n",
    "\n",
    "import pandas as pd\n",
    "import numpy as np\n",
    "from pathlib import Path\n",
    "pd.options.display.max_columns = 120\n",
    "\n",
    "# file path\n",
    "path = Path(\"data/taxi_fare.csv\")   # change if needed\n",
    "\n",
    "if not path.exists():\n",
    "    raise FileNotFoundError(f\"{path} not found. Put your CSV in data/ or update path.\")\n"
   ]
  },
  {
   "cell_type": "code",
   "execution_count": 3,
   "id": "c85c8c29",
   "metadata": {},
   "outputs": [
    {
     "name": "stdout",
     "output_type": "stream",
     "text": [
      "Shape: (212345, 18)\n"
     ]
    },
    {
     "data": {
      "text/html": [
       "<div>\n",
       "<style scoped>\n",
       "    .dataframe tbody tr th:only-of-type {\n",
       "        vertical-align: middle;\n",
       "    }\n",
       "\n",
       "    .dataframe tbody tr th {\n",
       "        vertical-align: top;\n",
       "    }\n",
       "\n",
       "    .dataframe thead th {\n",
       "        text-align: right;\n",
       "    }\n",
       "</style>\n",
       "<table border=\"1\" class=\"dataframe\">\n",
       "  <thead>\n",
       "    <tr style=\"text-align: right;\">\n",
       "      <th></th>\n",
       "      <th>VendorID</th>\n",
       "      <th>tpep_pickup_datetime</th>\n",
       "      <th>tpep_dropoff_datetime</th>\n",
       "      <th>passenger_count</th>\n",
       "      <th>pickup_longitude</th>\n",
       "      <th>pickup_latitude</th>\n",
       "      <th>RatecodeID</th>\n",
       "      <th>store_and_fwd_flag</th>\n",
       "      <th>dropoff_longitude</th>\n",
       "      <th>dropoff_latitude</th>\n",
       "      <th>payment_type</th>\n",
       "      <th>fare_amount</th>\n",
       "      <th>extra</th>\n",
       "      <th>mta_tax</th>\n",
       "      <th>tip_amount</th>\n",
       "      <th>tolls_amount</th>\n",
       "      <th>improvement_surcharge</th>\n",
       "      <th>total_amount</th>\n",
       "    </tr>\n",
       "  </thead>\n",
       "  <tbody>\n",
       "    <tr>\n",
       "      <th>0</th>\n",
       "      <td>1</td>\n",
       "      <td>2016-03-01</td>\n",
       "      <td>2016-03-01 00:07:55</td>\n",
       "      <td>1</td>\n",
       "      <td>-73.976746</td>\n",
       "      <td>40.765152</td>\n",
       "      <td>1</td>\n",
       "      <td>N</td>\n",
       "      <td>-74.004265</td>\n",
       "      <td>40.746128</td>\n",
       "      <td>1</td>\n",
       "      <td>9.0</td>\n",
       "      <td>0.5</td>\n",
       "      <td>0.5</td>\n",
       "      <td>2.05</td>\n",
       "      <td>0.00</td>\n",
       "      <td>0.3</td>\n",
       "      <td>12.35</td>\n",
       "    </tr>\n",
       "    <tr>\n",
       "      <th>1</th>\n",
       "      <td>1</td>\n",
       "      <td>2016-03-01</td>\n",
       "      <td>2016-03-01 00:11:06</td>\n",
       "      <td>1</td>\n",
       "      <td>-73.983482</td>\n",
       "      <td>40.767925</td>\n",
       "      <td>1</td>\n",
       "      <td>N</td>\n",
       "      <td>-74.005943</td>\n",
       "      <td>40.733166</td>\n",
       "      <td>1</td>\n",
       "      <td>11.0</td>\n",
       "      <td>0.5</td>\n",
       "      <td>0.5</td>\n",
       "      <td>3.05</td>\n",
       "      <td>0.00</td>\n",
       "      <td>0.3</td>\n",
       "      <td>15.35</td>\n",
       "    </tr>\n",
       "    <tr>\n",
       "      <th>2</th>\n",
       "      <td>2</td>\n",
       "      <td>2016-03-01</td>\n",
       "      <td>2016-03-01 00:31:06</td>\n",
       "      <td>2</td>\n",
       "      <td>-73.782021</td>\n",
       "      <td>40.644810</td>\n",
       "      <td>1</td>\n",
       "      <td>N</td>\n",
       "      <td>-73.974541</td>\n",
       "      <td>40.675770</td>\n",
       "      <td>1</td>\n",
       "      <td>54.5</td>\n",
       "      <td>0.5</td>\n",
       "      <td>0.5</td>\n",
       "      <td>8.00</td>\n",
       "      <td>0.00</td>\n",
       "      <td>0.3</td>\n",
       "      <td>63.80</td>\n",
       "    </tr>\n",
       "    <tr>\n",
       "      <th>3</th>\n",
       "      <td>2</td>\n",
       "      <td>2016-03-01</td>\n",
       "      <td>2016-03-01 00:00:00</td>\n",
       "      <td>3</td>\n",
       "      <td>-73.863419</td>\n",
       "      <td>40.769814</td>\n",
       "      <td>1</td>\n",
       "      <td>N</td>\n",
       "      <td>-73.969650</td>\n",
       "      <td>40.757767</td>\n",
       "      <td>1</td>\n",
       "      <td>31.5</td>\n",
       "      <td>0.0</td>\n",
       "      <td>0.5</td>\n",
       "      <td>3.78</td>\n",
       "      <td>5.54</td>\n",
       "      <td>0.3</td>\n",
       "      <td>41.62</td>\n",
       "    </tr>\n",
       "    <tr>\n",
       "      <th>4</th>\n",
       "      <td>2</td>\n",
       "      <td>2016-03-01</td>\n",
       "      <td>2016-03-01 00:00:00</td>\n",
       "      <td>5</td>\n",
       "      <td>-73.971741</td>\n",
       "      <td>40.792183</td>\n",
       "      <td>3</td>\n",
       "      <td>N</td>\n",
       "      <td>-74.177170</td>\n",
       "      <td>40.695053</td>\n",
       "      <td>1</td>\n",
       "      <td>98.0</td>\n",
       "      <td>0.0</td>\n",
       "      <td>0.0</td>\n",
       "      <td>0.00</td>\n",
       "      <td>15.50</td>\n",
       "      <td>0.3</td>\n",
       "      <td>113.80</td>\n",
       "    </tr>\n",
       "  </tbody>\n",
       "</table>\n",
       "</div>"
      ],
      "text/plain": [
       "   VendorID tpep_pickup_datetime tpep_dropoff_datetime  passenger_count  \\\n",
       "0         1           2016-03-01   2016-03-01 00:07:55                1   \n",
       "1         1           2016-03-01   2016-03-01 00:11:06                1   \n",
       "2         2           2016-03-01   2016-03-01 00:31:06                2   \n",
       "3         2           2016-03-01   2016-03-01 00:00:00                3   \n",
       "4         2           2016-03-01   2016-03-01 00:00:00                5   \n",
       "\n",
       "   pickup_longitude  pickup_latitude  RatecodeID store_and_fwd_flag  \\\n",
       "0        -73.976746        40.765152           1                  N   \n",
       "1        -73.983482        40.767925           1                  N   \n",
       "2        -73.782021        40.644810           1                  N   \n",
       "3        -73.863419        40.769814           1                  N   \n",
       "4        -73.971741        40.792183           3                  N   \n",
       "\n",
       "   dropoff_longitude  dropoff_latitude  payment_type  fare_amount  extra  \\\n",
       "0         -74.004265         40.746128             1          9.0    0.5   \n",
       "1         -74.005943         40.733166             1         11.0    0.5   \n",
       "2         -73.974541         40.675770             1         54.5    0.5   \n",
       "3         -73.969650         40.757767             1         31.5    0.0   \n",
       "4         -74.177170         40.695053             1         98.0    0.0   \n",
       "\n",
       "   mta_tax  tip_amount  tolls_amount  improvement_surcharge  total_amount  \n",
       "0      0.5        2.05          0.00                    0.3         12.35  \n",
       "1      0.5        3.05          0.00                    0.3         15.35  \n",
       "2      0.5        8.00          0.00                    0.3         63.80  \n",
       "3      0.5        3.78          5.54                    0.3         41.62  \n",
       "4      0.0        0.00         15.50                    0.3        113.80  "
      ]
     },
     "metadata": {},
     "output_type": "display_data"
    },
    {
     "name": "stdout",
     "output_type": "stream",
     "text": [
      "\n",
      "Column dtypes:\n",
      "VendorID                          int64\n",
      "tpep_pickup_datetime     datetime64[ns]\n",
      "tpep_dropoff_datetime    datetime64[ns]\n",
      "passenger_count                   int64\n",
      "pickup_longitude                float64\n",
      "pickup_latitude                 float64\n",
      "RatecodeID                        int64\n",
      "store_and_fwd_flag               object\n",
      "dropoff_longitude               float64\n",
      "dropoff_latitude                float64\n",
      "payment_type                      int64\n",
      "fare_amount                     float64\n",
      "extra                           float64\n",
      "mta_tax                         float64\n",
      "tip_amount                      float64\n",
      "tolls_amount                    float64\n",
      "improvement_surcharge           float64\n",
      "total_amount                    float64\n",
      "dtype: object\n"
     ]
    }
   ],
   "source": [
    "# parse dates (adjust names if your file differs)\n",
    "date_cols = [\"tpep_pickup_datetime\", \"tpep_dropoff_datetime\"]\n",
    "df = pd.read_csv(path, parse_dates=date_cols, low_memory=False)\n",
    "\n",
    "# quick overview\n",
    "print(\"Shape:\", df.shape)\n",
    "display(df.head(5))\n",
    "print(\"\\nColumn dtypes:\")\n",
    "print(df.dtypes)"
   ]
  },
  {
   "cell_type": "code",
   "execution_count": 4,
   "id": "ba76fe84",
   "metadata": {},
   "outputs": [
    {
     "data": {
      "text/plain": [
       "VendorID                 0\n",
       "tpep_pickup_datetime     0\n",
       "tpep_dropoff_datetime    0\n",
       "passenger_count          0\n",
       "pickup_longitude         0\n",
       "pickup_latitude          0\n",
       "RatecodeID               0\n",
       "store_and_fwd_flag       0\n",
       "dropoff_longitude        0\n",
       "dropoff_latitude         0\n",
       "payment_type             0\n",
       "fare_amount              0\n",
       "extra                    0\n",
       "mta_tax                  0\n",
       "tip_amount               0\n",
       "tolls_amount             0\n",
       "improvement_surcharge    0\n",
       "total_amount             0\n",
       "dtype: int64"
      ]
     },
     "metadata": {},
     "output_type": "display_data"
    }
   ],
   "source": [
    "# missing values (top 20)\n",
    "\n",
    "missing = df.isnull().sum().sort_values(ascending=False)\n",
    "display(missing.head(20))\n"
   ]
  },
  {
   "cell_type": "code",
   "execution_count": 5,
   "id": "5309133f",
   "metadata": {},
   "outputs": [
    {
     "name": "stdout",
     "output_type": "stream",
     "text": [
      "Duplicate rows: 0\n"
     ]
    }
   ],
   "source": [
    "# duplicates\n",
    "print(\"Duplicate rows:\", df.duplicated().sum())"
   ]
  },
  {
   "cell_type": "code",
   "execution_count": 6,
   "id": "c26c6d0c",
   "metadata": {},
   "outputs": [
    {
     "name": "stdout",
     "output_type": "stream",
     "text": [
      "Missing required columns: []\n"
     ]
    }
   ],
   "source": [
    "# required columns check (project spec)\n",
    "required_cols = [\"VendorID\",\"tpep_pickup_datetime\",\"tpep_dropoff_datetime\",\"passenger_count\",\n",
    "                 \"pickup_longitude\",\"pickup_latitude\",\"dropoff_longitude\",\"dropoff_latitude\",\n",
    "                 \"payment_type\",\"fare_amount\",\"extra\",\"mta_tax\",\"tip_amount\",\"tolls_amount\",\n",
    "                 \"improvement_surcharge\",\"total_amount\"]\n",
    "missing_required = [c for c in required_cols if c not in df.columns]\n",
    "print(\"Missing required columns:\", missing_required)"
   ]
  },
  {
   "cell_type": "code",
   "execution_count": 7,
   "id": "d96d4dab",
   "metadata": {},
   "outputs": [
    {
     "data": {
      "text/html": [
       "<div>\n",
       "<style scoped>\n",
       "    .dataframe tbody tr th:only-of-type {\n",
       "        vertical-align: middle;\n",
       "    }\n",
       "\n",
       "    .dataframe tbody tr th {\n",
       "        vertical-align: top;\n",
       "    }\n",
       "\n",
       "    .dataframe thead th {\n",
       "        text-align: right;\n",
       "    }\n",
       "</style>\n",
       "<table border=\"1\" class=\"dataframe\">\n",
       "  <thead>\n",
       "    <tr style=\"text-align: right;\">\n",
       "      <th></th>\n",
       "      <th>count</th>\n",
       "      <th>mean</th>\n",
       "      <th>std</th>\n",
       "      <th>min</th>\n",
       "      <th>25%</th>\n",
       "      <th>50%</th>\n",
       "      <th>75%</th>\n",
       "      <th>max</th>\n",
       "    </tr>\n",
       "  </thead>\n",
       "  <tbody>\n",
       "    <tr>\n",
       "      <th>fare_amount</th>\n",
       "      <td>212345.0</td>\n",
       "      <td>12.665588</td>\n",
       "      <td>10.875584</td>\n",
       "      <td>-52.0</td>\n",
       "      <td>6.5</td>\n",
       "      <td>9.50</td>\n",
       "      <td>14.50</td>\n",
       "      <td>819.50</td>\n",
       "    </tr>\n",
       "    <tr>\n",
       "      <th>tip_amount</th>\n",
       "      <td>212345.0</td>\n",
       "      <td>1.809357</td>\n",
       "      <td>2.507419</td>\n",
       "      <td>-2.7</td>\n",
       "      <td>0.0</td>\n",
       "      <td>1.35</td>\n",
       "      <td>2.36</td>\n",
       "      <td>218.95</td>\n",
       "    </tr>\n",
       "    <tr>\n",
       "      <th>total_amount</th>\n",
       "      <td>212345.0</td>\n",
       "      <td>15.649355</td>\n",
       "      <td>13.592129</td>\n",
       "      <td>-52.8</td>\n",
       "      <td>8.3</td>\n",
       "      <td>11.62</td>\n",
       "      <td>17.16</td>\n",
       "      <td>832.80</td>\n",
       "    </tr>\n",
       "    <tr>\n",
       "      <th>passenger_count</th>\n",
       "      <td>212345.0</td>\n",
       "      <td>1.766493</td>\n",
       "      <td>1.469647</td>\n",
       "      <td>0.0</td>\n",
       "      <td>1.0</td>\n",
       "      <td>1.00</td>\n",
       "      <td>2.00</td>\n",
       "      <td>6.00</td>\n",
       "    </tr>\n",
       "  </tbody>\n",
       "</table>\n",
       "</div>"
      ],
      "text/plain": [
       "                    count       mean        std   min  25%    50%    75%  \\\n",
       "fare_amount      212345.0  12.665588  10.875584 -52.0  6.5   9.50  14.50   \n",
       "tip_amount       212345.0   1.809357   2.507419  -2.7  0.0   1.35   2.36   \n",
       "total_amount     212345.0  15.649355  13.592129 -52.8  8.3  11.62  17.16   \n",
       "passenger_count  212345.0   1.766493   1.469647   0.0  1.0   1.00   2.00   \n",
       "\n",
       "                    max  \n",
       "fare_amount      819.50  \n",
       "tip_amount       218.95  \n",
       "total_amount     832.80  \n",
       "passenger_count    6.00  "
      ]
     },
     "metadata": {},
     "output_type": "display_data"
    }
   ],
   "source": [
    "# basic stats\n",
    "display(df[[\"fare_amount\",\"tip_amount\",\"total_amount\",\"passenger_count\"]].describe().T)"
   ]
  },
  {
   "cell_type": "code",
   "execution_count": 8,
   "id": "abb57b99",
   "metadata": {},
   "outputs": [
    {
     "data": {
      "text/plain": [
       "count    212345.000000\n",
       "mean         16.149813\n",
       "std          56.178587\n",
       "min       -7174.583333\n",
       "25%           6.716667\n",
       "50%          11.266667\n",
       "75%          18.300000\n",
       "max        1439.383333\n",
       "Name: trip_duration_min, dtype: float64"
      ]
     },
     "metadata": {},
     "output_type": "display_data"
    }
   ],
   "source": [
    "# make a quick duration column for sanity checks\n",
    "df[\"trip_duration_min\"] = (df[\"tpep_dropoff_datetime\"] - df[\"tpep_pickup_datetime\"]).dt.total_seconds() / 60.0\n",
    "display(df[\"trip_duration_min\"].describe())"
   ]
  },
  {
   "cell_type": "code",
   "execution_count": 9,
   "id": "381e5477",
   "metadata": {},
   "outputs": [
    {
     "name": "stdout",
     "output_type": "stream",
     "text": [
      "total_amount <= 0: 144\n",
      "fare_amount <= 0: 156\n"
     ]
    }
   ],
   "source": [
    "# suspicious financials\n",
    "print(\"total_amount <= 0:\", (df[\"total_amount\"] <= 0).sum())\n",
    "print(\"fare_amount <= 0:\", (df[\"fare_amount\"] <= 0).sum())\n"
   ]
  },
  {
   "cell_type": "code",
   "execution_count": 10,
   "id": "f7add4bb",
   "metadata": {},
   "outputs": [
    {
     "name": "stdout",
     "output_type": "stream",
     "text": [
      "Before cleaning: (212345, 19)\n"
     ]
    }
   ],
   "source": [
    "print(\"Before cleaning:\", df.shape)\n",
    "df_cleaned = df.copy()"
   ]
  },
  {
   "cell_type": "code",
   "execution_count": 11,
   "id": "c15af048",
   "metadata": {},
   "outputs": [],
   "source": [
    "# Remove invalid fares, tips, totals\n",
    "\n",
    "df_cleaned = df_cleaned[(df_cleaned['fare_amount'] > 0) &\n",
    "                        (df_cleaned['total_amount'] > 0) &\n",
    "                        (df_cleaned['tip_amount'] >= 0)]\n",
    "\n",
    "# Remove invalid passenger counts\n",
    "df_cleaned = df_cleaned[df_cleaned['passenger_count'] > 0]\n",
    "\n",
    "# Remove invalid trip durations\n",
    "df_cleaned = df_cleaned[df_cleaned['trip_duration_min'] > 0]"
   ]
  },
  {
   "cell_type": "code",
   "execution_count": 12,
   "id": "d7a6eb57",
   "metadata": {},
   "outputs": [
    {
     "name": "stdout",
     "output_type": "stream",
     "text": [
      "After cleaning: (212055, 19)\n"
     ]
    }
   ],
   "source": [
    "print(\"After cleaning:\", df_cleaned.shape)"
   ]
  },
  {
   "cell_type": "code",
   "execution_count": 13,
   "id": "931754b6",
   "metadata": {},
   "outputs": [
    {
     "name": "stdout",
     "output_type": "stream",
     "text": [
      "fare_amount <= 0: 0\n",
      "total_amount <= 0: 0\n",
      "tip_amount < 0: 0\n",
      "passenger_count == 0: 0\n",
      "trip_duration_min <= 0: 0\n"
     ]
    }
   ],
   "source": [
    "# Check if any invalids remain\n",
    "print(\"fare_amount <= 0:\", (df_cleaned['fare_amount'] <= 0).sum())\n",
    "print(\"total_amount <= 0:\", (df_cleaned['total_amount'] <= 0).sum())\n",
    "print(\"tip_amount < 0:\", (df_cleaned['tip_amount'] < 0).sum())\n",
    "print(\"passenger_count == 0:\", (df_cleaned['passenger_count'] == 0).sum())\n",
    "print(\"trip_duration_min <= 0:\", (df_cleaned['trip_duration_min'] <= 0).sum())\n"
   ]
  },
  {
   "cell_type": "code",
   "execution_count": 14,
   "id": "a961ddbf",
   "metadata": {},
   "outputs": [
    {
     "name": "stdout",
     "output_type": "stream",
     "text": [
      "Fare bounds: -5.5 26.5\n",
      "Tip bounds: -3.54 5.9\n",
      "Total bounds: -5.124999999999998 30.674999999999997\n",
      "Trip Duration bounds: -10.641666666666666 35.69166666666666\n"
     ]
    }
   ],
   "source": [
    "def detect_outliers_iqr(data, column):\n",
    "    Q1 = data[column].quantile(0.25)\n",
    "    Q3 = data[column].quantile(0.75)\n",
    "    IQR = Q3 - Q1\n",
    "    lower_bound = Q1 - 1.5 * IQR\n",
    "    upper_bound = Q3 + 1.5 * IQR\n",
    "    return lower_bound, upper_bound\n",
    "\n",
    "# Fare Amount\n",
    "fare_low, fare_high = detect_outliers_iqr(df_cleaned, 'fare_amount')\n",
    "print(\"Fare bounds:\", fare_low, fare_high)\n",
    "\n",
    "# Tip Amount\n",
    "tip_low, tip_high = detect_outliers_iqr(df_cleaned, 'tip_amount')\n",
    "print(\"Tip bounds:\", tip_low, tip_high)\n",
    "\n",
    "# Total Amount\n",
    "total_low, total_high = detect_outliers_iqr(df_cleaned, 'total_amount')\n",
    "print(\"Total bounds:\", total_low, total_high)\n",
    "\n",
    "# Trip Duration\n",
    "trip_low, trip_high = detect_outliers_iqr(df_cleaned, 'trip_duration_min')\n",
    "print(\"Trip Duration bounds:\", trip_low, trip_high)\n"
   ]
  },
  {
   "cell_type": "code",
   "execution_count": 15,
   "id": "ef6e9822",
   "metadata": {},
   "outputs": [
    {
     "data": {
      "text/html": [
       "<div>\n",
       "<style scoped>\n",
       "    .dataframe tbody tr th:only-of-type {\n",
       "        vertical-align: middle;\n",
       "    }\n",
       "\n",
       "    .dataframe tbody tr th {\n",
       "        vertical-align: top;\n",
       "    }\n",
       "\n",
       "    .dataframe thead th {\n",
       "        text-align: right;\n",
       "    }\n",
       "</style>\n",
       "<table border=\"1\" class=\"dataframe\">\n",
       "  <thead>\n",
       "    <tr style=\"text-align: right;\">\n",
       "      <th></th>\n",
       "      <th>pickup_latitude</th>\n",
       "      <th>pickup_longitude</th>\n",
       "      <th>dropoff_latitude</th>\n",
       "      <th>dropoff_longitude</th>\n",
       "      <th>trip_distance</th>\n",
       "    </tr>\n",
       "  </thead>\n",
       "  <tbody>\n",
       "    <tr>\n",
       "      <th>0</th>\n",
       "      <td>40.765152</td>\n",
       "      <td>-73.976746</td>\n",
       "      <td>40.746128</td>\n",
       "      <td>-74.004265</td>\n",
       "      <td>3.138096</td>\n",
       "    </tr>\n",
       "    <tr>\n",
       "      <th>1</th>\n",
       "      <td>40.767925</td>\n",
       "      <td>-73.983482</td>\n",
       "      <td>40.733166</td>\n",
       "      <td>-74.005943</td>\n",
       "      <td>4.303331</td>\n",
       "    </tr>\n",
       "    <tr>\n",
       "      <th>2</th>\n",
       "      <td>40.644810</td>\n",
       "      <td>-73.782021</td>\n",
       "      <td>40.675770</td>\n",
       "      <td>-73.974541</td>\n",
       "      <td>16.600142</td>\n",
       "    </tr>\n",
       "    <tr>\n",
       "      <th>7</th>\n",
       "      <td>40.647758</td>\n",
       "      <td>-73.788773</td>\n",
       "      <td>40.712345</td>\n",
       "      <td>-73.829208</td>\n",
       "      <td>7.950066</td>\n",
       "    </tr>\n",
       "    <tr>\n",
       "      <th>8</th>\n",
       "      <td>40.764641</td>\n",
       "      <td>-73.958221</td>\n",
       "      <td>40.762901</td>\n",
       "      <td>-73.967896</td>\n",
       "      <td>0.837395</td>\n",
       "    </tr>\n",
       "  </tbody>\n",
       "</table>\n",
       "</div>"
      ],
      "text/plain": [
       "   pickup_latitude  pickup_longitude  dropoff_latitude  dropoff_longitude  \\\n",
       "0        40.765152        -73.976746         40.746128         -74.004265   \n",
       "1        40.767925        -73.983482         40.733166         -74.005943   \n",
       "2        40.644810        -73.782021         40.675770         -73.974541   \n",
       "7        40.647758        -73.788773         40.712345         -73.829208   \n",
       "8        40.764641        -73.958221         40.762901         -73.967896   \n",
       "\n",
       "   trip_distance  \n",
       "0       3.138096  \n",
       "1       4.303331  \n",
       "2      16.600142  \n",
       "7       7.950066  \n",
       "8       0.837395  "
      ]
     },
     "execution_count": 15,
     "metadata": {},
     "output_type": "execute_result"
    }
   ],
   "source": [
    "import numpy as np\n",
    "\n",
    "# Haversine distance function (in kilometers)\n",
    "def haversine_distance(lat1, lon1, lat2, lon2):\n",
    "    R = 6371  # Earth radius in km\n",
    "    lat1_rad, lon1_rad = np.radians(lat1), np.radians(lon1)\n",
    "    lat2_rad, lon2_rad = np.radians(lat2), np.radians(lon2)\n",
    "    dlat = lat2_rad - lat1_rad\n",
    "    dlon = lon2_rad - lon1_rad\n",
    "\n",
    "    a = np.sin(dlat/2)**2 + np.cos(lat1_rad)*np.cos(lat2_rad)*np.sin(dlon/2)**2\n",
    "    c = 2 * np.arcsin(np.sqrt(a))\n",
    "    return R * c\n",
    "\n",
    "# Apply to dataset\n",
    "df_cleaned['trip_distance'] = haversine_distance(\n",
    "    df_cleaned['pickup_latitude'],\n",
    "    df_cleaned['pickup_longitude'],\n",
    "    df_cleaned['dropoff_latitude'],\n",
    "    df_cleaned['dropoff_longitude']\n",
    ")\n",
    "\n",
    "# Quick check\n",
    "df_cleaned[['pickup_latitude','pickup_longitude','dropoff_latitude','dropoff_longitude','trip_distance']].head()\n"
   ]
  },
  {
   "cell_type": "code",
   "execution_count": 16,
   "id": "cfb5666c",
   "metadata": {},
   "outputs": [
    {
     "data": {
      "text/plain": [
       "count    212055.000000\n",
       "mean         19.960728\n",
       "std         380.675716\n",
       "min           0.000000\n",
       "25%           1.156021\n",
       "50%           1.937574\n",
       "75%           3.560921\n",
       "max        8713.463111\n",
       "Name: trip_distance, dtype: float64"
      ]
     },
     "execution_count": 16,
     "metadata": {},
     "output_type": "execute_result"
    }
   ],
   "source": [
    "df_cleaned['trip_distance'].describe()"
   ]
  },
  {
   "cell_type": "code",
   "execution_count": 17,
   "id": "d950577a",
   "metadata": {},
   "outputs": [
    {
     "data": {
      "image/png": "[encoded data removed]",
      "text/plain": [
       "<Figure size 800x500 with 1 Axes>"
      ]
     },
     "metadata": {},
     "output_type": "display_data"
    },
    {
     "data": {
      "image/png": "[encoded data removed]",
      "text/plain": [
       "<Figure size 800x500 with 1 Axes>"
      ]
     },
     "metadata": {},
     "output_type": "display_data"
    },
    {
     "data": {
      "image/png": "[encoded data removed]",
      "text/plain": [
       "<Figure size 800x500 with 1 Axes>"
      ]
     },
     "metadata": {},
     "output_type": "display_data"
    }
   ],
   "source": [
    "# full analysis of high fares vs distance, duration, and time of day\n",
    "\n",
    "\n",
    "# Convert pickup datetime to local time if needed (assuming already cleaned)\n",
    "df_cleaned['pickup_hour'] = df_cleaned['tpep_pickup_datetime'].dt.hour\n",
    "df_cleaned['am_pm'] = df_cleaned['pickup_hour'].apply(lambda x: 'AM' if x < 12 else 'PM')\n",
    "\n",
    "df_cleaned[['total_amount','fare_amount','tip_amount','trip_distance','trip_duration_min','pickup_hour']].corr()\n",
    "\n",
    "import matplotlib.pyplot as plt\n",
    "import seaborn as sns\n",
    "\n",
    "# Total Fare vs Distance\n",
    "plt.figure(figsize=(8,5))\n",
    "sns.scatterplot(x='trip_distance', y='total_amount', data=df_cleaned, alpha=0.3)\n",
    "plt.title(\"Total Fare vs Trip Distance\")\n",
    "plt.xlabel(\"Trip Distance (km)\")\n",
    "plt.ylabel(\"Total Fare ($)\")\n",
    "plt.show()\n",
    "\n",
    "# Total Fare vs Duration\n",
    "plt.figure(figsize=(8,5))\n",
    "sns.scatterplot(x='trip_duration_min', y='total_amount', data=df_cleaned, alpha=0.3)\n",
    "plt.title(\"Total Fare vs Trip Duration\")\n",
    "plt.xlabel(\"Trip Duration (min)\")\n",
    "plt.ylabel(\"Total Fare ($)\")\n",
    "plt.show()\n",
    "\n",
    "# Total Fare vs Pickup Hour\n",
    "plt.figure(figsize=(8,5))\n",
    "sns.boxplot(x='pickup_hour', y='total_amount', data=df_cleaned)\n",
    "plt.title(\"Total Fare vs Pickup Hour\")\n",
    "plt.xlabel(\"Pickup Hour (0-23)\")\n",
    "plt.ylabel(\"Total Fare ($)\")\n",
    "plt.show()\n",
    "\n"
   ]
  },
  {
   "cell_type": "markdown",
   "id": "d3dea98e",
   "metadata": {},
   "source": [
    "1. High fares are NOT explained by distance or duration -> they are anomalies or outliers.\n",
    "2. Time of day doesn’t contribute either -> late-night or early-morning rides are fine, but they don’t explain $800+ fares.\n",
    "3. No linear relationship -> scatterplots show lots of points above normal range.\n",
    "4. Boxplots confirm extreme fares -> many points are far above the whiskers (outliers).\n",
    "\n"
   ]
  },
  {
   "cell_type": "code",
   "execution_count": 18,
   "id": "79f5ac2b",
   "metadata": {},
   "outputs": [
    {
     "name": "stdout",
     "output_type": "stream",
     "text": [
      "Correlation between extra charges and total fare:\n",
      "                  extra  total_amount\n",
      "extra         1.000000      0.005797\n",
      "total_amount  0.005797      1.000000\n"
     ]
    }
   ],
   "source": [
    "corr_extra_total = df_cleaned[['extra','total_amount']].corr()\n",
    "print(\"Correlation between extra charges and total fare:\\n\", corr_extra_total)"
   ]
  },
  {
   "cell_type": "markdown",
   "id": "21561a50",
   "metadata": {},
   "source": [
    "- Extra charges do not explain high total fares.\n",
    "- High fares are not coming from surcharges; they are likely anomalous data points."
   ]
  },
  {
   "cell_type": "code",
   "execution_count": 19,
   "id": "e8e2df88",
   "metadata": {},
   "outputs": [],
   "source": [
    "# Restricting Long and Lat within the city"
   ]
  },
  {
   "cell_type": "code",
   "execution_count": 20,
   "id": "6691ae25",
   "metadata": {},
   "outputs": [],
   "source": [
    "df_cleaned = df_cleaned[\n",
    "    (df_cleaned['pickup_latitude'].between(40.5, 40.9)) &\n",
    "    (df_cleaned['pickup_longitude'].between(-74.25, -73.7)) &\n",
    "    (df_cleaned['dropoff_latitude'].between(40.5, 40.9)) &\n",
    "    (df_cleaned['dropoff_longitude'].between(-74.25, -73.7))\n",
    "].copy()"
   ]
  },
  {
   "cell_type": "code",
   "execution_count": 21,
   "id": "dd12a120",
   "metadata": {},
   "outputs": [],
   "source": [
    "# Make a copy to avoid modifying original cleaned data\n",
    "df_final = df_cleaned.copy()\n",
    "\n",
    "# Apply thresholds based on fare, tip, total, duration, and passengers\n",
    "df_final = df_final[\n",
    "    (df_final['fare_amount'] >= 1) & (df_final['fare_amount'] <= 200) &\n",
    "    (df_final['tip_amount'] >= 0) & (df_final['tip_amount'] <= 50) &\n",
    "    (df_final['total_amount'] >= 1) & (df_final['total_amount'] <= 250) &\n",
    "    (df_final['trip_duration_min'] >= 1) & (df_final['trip_duration_min'] <= 360) &\n",
    "    (df_final['passenger_count'] >= 1) & (df_final['passenger_count'] <= 6)\n",
    "].copy()\n",
    "\n",
    "# reset index\n",
    "df_final.reset_index(drop=True, inplace=True)"
   ]
  },
  {
   "cell_type": "code",
   "execution_count": 22,
   "id": "76c1074b",
   "metadata": {},
   "outputs": [
    {
     "name": "stdout",
     "output_type": "stream",
     "text": [
      "Shape after final cleaning: (208024, 22)\n",
      "Fare min/max: 1.1 / 200.0\n",
      "Total min/max: 1.9 / 205.84\n",
      "Tip min/max: 0.0 / 45.0\n",
      "Trip duration min/max: 1.0 / 253.98333333333332\n",
      "Passenger count min/max: 1 / 6\n"
     ]
    }
   ],
   "source": [
    "\n",
    "# Quick sanity checks\n",
    "print(\"Shape after final cleaning:\", df_final.shape)\n",
    "print(\"Fare min/max:\", df_final['fare_amount'].min(), \"/\", df_final['fare_amount'].max())\n",
    "print(\"Total min/max:\", df_final['total_amount'].min(), \"/\", df_final['total_amount'].max())\n",
    "print(\"Tip min/max:\", df_final['tip_amount'].min(), \"/\", df_final['tip_amount'].max())\n",
    "print(\"Trip duration min/max:\", df_final['trip_duration_min'].min(), \"/\", df_final['trip_duration_min'].max())\n",
    "print(\"Passenger count min/max:\", df_final['passenger_count'].min(), \"/\", df_final['passenger_count'].max())"
   ]
  },
  {
   "cell_type": "code",
   "execution_count": 23,
   "id": "f396d20a",
   "metadata": {},
   "outputs": [
    {
     "name": "stdout",
     "output_type": "stream",
     "text": [
      "Final cleaned dataset saved as 'tripfare_cleaned.csv'\n"
     ]
    }
   ],
   "source": [
    "# Save the final cleaned dataframe to CSV\n",
    "df_final.to_csv(\"data/tripfare_cleaned.csv\", index=False)\n",
    "\n",
    "print(\"Final cleaned dataset saved as 'tripfare_cleaned.csv'\")\n"
   ]
  }
 ],
 "metadata": {
  "kernelspec": {
   "display_name": "Python 3",
   "language": "python",
   "name": "python3"
  },
  "language_info": {
   "codemirror_mode": {
    "name": "ipython",
    "version": 3
   },
   "file_extension": ".py",
   "mimetype": "text/x-python",
   "name": "python",
   "nbconvert_exporter": "python",
   "pygments_lexer": "ipython3",
   "version": "3.13.2"
  }
 },
 "nbformat": 4,
 "nbformat_minor": 5
}
